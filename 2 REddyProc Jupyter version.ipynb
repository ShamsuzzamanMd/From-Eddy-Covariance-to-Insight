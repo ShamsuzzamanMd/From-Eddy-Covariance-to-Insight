{
 "cells": [
  {
   "cell_type": "markdown",
   "metadata": {
    "id": "VG49VEol8euD"
   },
   "source": [
    "\n",
    " ╔═════════════════════════════════════════════════════════════════════════╗\n",
    "        \n",
    "        🌿  **GAP-FILLING USING REddyProc**     \n",
    "        \n",
    "        📘  **R-Based Script (Runtime type)**             \n",
    " ╚═════════════════════════════════════════════════════════════════════════╝\n",
    "\n"
   ]
  },
  {
   "cell_type": "markdown",
   "metadata": {
    "id": "hqAoDndy-rFj"
   },
   "source": [
    "# ============================================================\n",
    "# 📦 **1. Importing Packages**\n",
    "# ============================================================"
   ]
  },
  {
   "cell_type": "code",
   "execution_count": null,
   "metadata": {
    "colab": {
     "base_uri": "https://localhost:8080/"
    },
    "id": "hYEmhaSn8U53",
    "outputId": "2b92e8bb-6470-42e2-f183-3b466cf9c786",
    "trusted": true,
    "vscode": {
     "languageId": "r"
    }
   },
   "outputs": [],
   "source": [
    "install.packages(\"REddyProc\")   # Install REddyProc package for flux data processing\n",
    "library(REddyProc)              # Load REddyProc\n",
    "library(lubridate)              # Handle date-time data\n",
    "library(tidyverse)              # Data manipulation and visualization\n",
    "library(dplyr)                  # Data wrangling\n",
    "library(bigleaf)                # Canopy and flux calculations\n",
    "library(data.table)             # Efficient data handling\n",
    "library(ggplot2)                # Plotting and visualization\n"
   ]
  },
  {
   "cell_type": "markdown",
   "metadata": {
    "id": "olJIuXj-8-ds"
   },
   "source": [
    "# ============================================================\n",
    "# 🌿 **2. Data Directory and Loading**\n",
    "# ============================================================"
   ]
  },
  {
   "cell_type": "code",
   "execution_count": null,
   "metadata": {
    "colab": {
     "base_uri": "https://localhost:8080/"
    },
    "id": "dQRjYfUx8-4N",
    "outputId": "442c8a66-ad63-4a1a-9bac-281b487d9633",
    "trusted": true,
    "vscode": {
     "languageId": "r"
    }
   },
   "outputs": [],
   "source": [
    "siteLat <- 53.15174484\n",
    "siteLon <- -7.967936516\n",
    "siteTz  <- 0\n",
    "siteName <- \"All Saints Bog\"\n",
    "\n",
    "\n",
    "datafile = \"AsiaFlux2025.txt\"     # add the extension (e.g., .txt)\n",
    "resdir <- \"/content\"\n",
    "resfile = \"Gap-filled data\"\n",
    "\n",
    "datadir <- \".\"\n",
    "datafile <- \"AsiaFlux2025.txt\"\n",
    "resdir <- \"output\"\n",
    "resfile <- \"gap_filled_data_all_saints_bog_vpd\"\n",
    "# Ensure the output folder exists\n",
    "if (!dir.exists(resdir)) dir.create(resdir)\n",
    "\n",
    "# Full paths\n",
    "file <- file.path(datadir, datafile)\n",
    "outfile <- file.path(resdir, paste0(resfile, \".txt\"))\n",
    "\n",
    "# Print paths for verification\n",
    "print(paste(\"Input file:\", normalizePath(file, winslash = \"/\")))\n",
    "print(paste(\"Output file will be saved as:\", normalizePath(outfile, winslash = \"/\")))\n",
    "\n",
    "\n",
    "if (!file.exists(file)) stop(\"Data file not found: \", file)\n",
    "EddyData <- fLoadTXTIntoDataframe(file)"
   ]
  },
  {
   "cell_type": "markdown",
   "metadata": {
    "id": "EF-oLpRG9Eyu"
   },
   "source": [
    "# ============================================================\n",
    "# ⚙️ **3. Data Processing**\n",
    "# ============================================================\n"
   ]
  },
  {
   "cell_type": "code",
   "execution_count": null,
   "metadata": {
    "colab": {
     "base_uri": "https://localhost:8080/"
    },
    "id": "CuGZ1kEL9Auv",
    "outputId": "f45bbd5d-7bef-4b4f-ae8a-deb4d5312750",
    "trusted": true,
    "vscode": {
     "languageId": "r"
    }
   },
   "outputs": [],
   "source": [
    "# add POSIXtime column if DateTime\n",
    "EddyData <- fConvertTimeToPosix(EddyData, \"YDH\", Year=\"Year\", Day=\"DoY\", Hour=\"Hour\")\n",
    "\n",
    "# REddyProc does not accept negative radiation values, convert to zero\n",
    "# (missing data values -9999 were already converted to NA by fLoadTXTIntoDataframe)\n",
    "EddyData$Rg[EddyData$Rg<0] <- 0\n",
    "\n",
    "# calculate VPD\n",
    "#EddyData$VPD <- fCalcVPDfromRHandTair(EddyData$rH, EddyData$Tair)\n",
    "\n",
    "# calculate mean of Tair and Tsoil as Tmean to get more meaningful binning variable or respiration driver than Tair\n",
    "EddyData$Tmean <- rowMeans(EddyData[,c(\"Tair\",\"Tsoil\")], na.rm=TRUE)\n",
    "\n",
    "# removal of outliers and obvious peaks in the data\n",
    "#EddyData$NEE[abs(EddyData$NEE - mean(EddyData$NEE, na.rm=T)) > 3 * sd(EddyData$NEE, na.rm=T)] <- NA\n",
    "#EddyData$LE[abs(EddyData$LE - mean(EddyData$LE, na.rm=T)) > 3 * sd(EddyData$LE, na.rm=T)] <- NA\n",
    "#EddyData$H[abs(EddyData$H - mean(EddyData$H, na.rm=T)) > 3 * sd(EddyData$H, na.rm=T)] <- NA\n",
    "\n",
    "# removal of data with high QC flag\n",
    "#EddyData$NEE[EddyData$qc_co2_flux > 1.0] <- NA\n",
    "#EddyData$LE[EddyData$qc_co2_flux > 1.0] <- NA"
   ]
  },
  {
   "cell_type": "markdown",
   "metadata": {
    "id": "JD2ZbdozBpZ4"
   },
   "source": [
    "# ============================================================\n",
    "# 🌿 **4 REddyProc Application**\n",
    "# ============================================================"
   ]
  },
  {
   "cell_type": "markdown",
   "metadata": {
    "id": "0kLqIMSAGiLR"
   },
   "source": [
    "\n",
    "\n",
    "\n",
    "\n",
    "\n",
    "\n",
    "\n",
    "📂 **Processed and Clean EC Data**\n",
    "      \n",
    "      ---> ⚙️ REddyProc Object Initiation\n",
    "      \n",
    "                    ---> 🌬️ U* Star Filtering\n",
    "      \n",
    "                    ---> 🧩 Gap-Filling\n",
    "      \n",
    "                  ---> 🌿 Flux Partitioning\n",
    "      \n",
    "      ---> 📊 Outputs (NEE_f, GPP, Reco)\n"
   ]
  },
  {
   "cell_type": "markdown",
   "metadata": {
    "id": "VvZfQpDR9ID1"
   },
   "source": [
    "# 🔹 **4.1 Initialize REddyProc Object**"
   ]
  },
  {
   "cell_type": "code",
   "execution_count": null,
   "metadata": {
    "colab": {
     "base_uri": "https://localhost:8080/"
    },
    "id": "St5mZoOT9Id1",
    "outputId": "b5c05154-f1dd-4d10-8b05-235ad8caf317",
    "trusted": true,
    "vscode": {
     "languageId": "r"
    }
   },
   "outputs": [],
   "source": [
    "# initialize new REddyProc object with site data and location\n",
    "EddyObj <- sEddyProc$new(ID=siteName, Data=EddyData, ColNames=c(\"NEE\",\"Rg\",\"Tair\",\"Tsoil\",\"Tmean\",\"VPD\",\"Ustar\"),\n",
    "                         LatDeg=siteLat, LongDeg=siteLon, TimeZoneHour=siteTz)"
   ]
  },
  {
   "cell_type": "markdown",
   "metadata": {
    "id": "yLs84F3WB_9M"
   },
   "source": [
    "# 🔹 **4.2 uStar Threshold Estimation and NEE Gap-Filling Preparation**"
   ]
  },
  {
   "cell_type": "code",
   "execution_count": null,
   "metadata": {
    "colab": {
     "base_uri": "https://localhost:8080/",
     "height": 1000
    },
    "id": "LEjXACkO9LRQ",
    "outputId": "a4cefacb-cbc3-4298-83f0-640910a31f12",
    "trusted": true,
    "vscode": {
     "languageId": "r"
    }
   },
   "outputs": [],
   "source": [
    "# u* threshold\n",
    "\n",
    "# REddyProc estimates seasonal u* thresholds,\n",
    "# modify season boundaries to pool all data (May-Aug) into one season (default seasons are Dec-Feb, Mar-May, Jun-Aug, Sep-Nov)\n",
    "seasons <- usCreateSeasonFactorMonth(EddyData$DateTime-15*60, startMonth = c(1,5,9))\n",
    "\n",
    "# estimate u* threshold distribution...\n",
    "uStarThAll <- EddyObj$sEstUstarThresholdDistribution(seasonFactor=seasons)\n",
    "\n",
    "# ... or just mean values\n",
    "uStarTh <- EddyObj$sEstUstarThold(seasonFactor=seasons)\n",
    "\n",
    "# estimate u* threshold with Tmean instead of Tair\n",
    "uStarTh_Tmean <- EddyObj$sEstUstarThold(seasonFactor=seasons, TempColName=\"Tmean\")\n",
    "\n",
    "# extract one value...\n",
    "uStarThSingle <- uStarTh$uStar[uStarTh$aggregationMode==\"single\"]\n",
    "uStarThSingle_Tmean <- uStarTh_Tmean$uStar[uStarTh$aggregationMode==\"single\"]\n",
    "\n",
    "# ...or seasonal value(s) as data frame\n",
    "uStarThSeasonal <- usGetSeasonalSeasonUStarMap(uStarTh)\n",
    "\n",
    "# plot NEE vs uStar for the summer season (see season names by looking at levels(uStarTh$season))\n",
    "# assigning file name is not possible so the second command overwrites the first plotss\n",
    "season <- \"2021001\"\n",
    "uStarThSeasonal\n",
    "EddyObj\n",
    "\n",
    "EddyObj$sPlotNEEVersusUStarForSeason(season=season, dir=resdir)\n",
    "#EddyObj$sPlotNEEVersusUStarForSeason(season=season)\n",
    "EddyObj$sPlotNEEVersusUStarForSeason(season=season, TempColName=\"Tmean\", dir=resdir)\n",
    "#EddyObj$sPlotNEEVersusUStarForSeason(season=season, TempColName=\"Tmean\")\n",
    "# If season filtering does not work, assign input data of the desired season:\n",
    "# plotData <- cbind(EddyObj$sDATA, EddyObj$sTEMP, EddyObj$sUSTAR_DETAILS$bins[,c(\"uStarBin\",\"tempBin\")])\n",
    "# plotData <- subset(plotData, season==season)\n",
    "# EddyObj$sPlotNEEVersusUStarForSeason(season=season, dir=resdir, data=plotData)\n",
    "# EddyObj$sPlotNEEVersusUStarForSeason(season=season, TempColName=\"Tmean\", dir=resdir, data=plotData)"
   ]
  },
  {
   "cell_type": "markdown",
   "metadata": {
    "id": "HwrZUtDb9ScV"
   },
   "source": [
    "# 🔹 **4.3 Gap-Filling CO₂ Fluxes Using uStar Thresholds**"
   ]
  },
  {
   "cell_type": "code",
   "execution_count": null,
   "metadata": {
    "colab": {
     "base_uri": "https://localhost:8080/"
    },
    "id": "3TKyYBGQ9QHH",
    "outputId": "464dfef3-74b4-434b-e06e-91b4d9a4402f",
    "trusted": true,
    "vscode": {
     "languageId": "r"
    }
   },
   "outputs": [],
   "source": [
    "# gapfilling of CO2 fluxes with single and seasonal u* thresholds\n",
    "\n",
    "# run gapfilling with single u* value,\n",
    "# override default suffix \"uStar\" that is added to the result column names to distinguish the results of different gapfilling runs\n",
    "EddyObj$sMDSGapFillAfterUstar(\"NEE\", uStarTh=uStarThSingle, uStarSuffix=\"single_ust\")\n",
    "\n",
    "# run gapfilling using mean of Tair and Tsoil as third condition variable\n",
    "EddyObj$sMDSGapFillAfterUstar(\"NEE\", V3=\"Tmean\", uStarTh=uStarThSingle_Tmean, uStarSuffix=\"single_ust_Tmean\")\n",
    "\n",
    "# run gapfilling using Tsoil as third condition variable\n",
    "# EddyObj$sMDSGapFillAfterUstar(\"NEE\", V3=\"Tsoil\", uStarTh=uStarThSingle, uStarSuffix=\"single_ust_Tsoil\")\n",
    "\n",
    "# run gapfilling with seasonally varying ustar\n",
    "# note that determining threshold is uncertain when fluxes are small, often it's better to use annual or single threshold\n",
    "EddyObj$sMDSGapFillAfterUstar(\"NEE\", uStarTh=uStarThSeasonal, uStarSuffix=\"seasonal_ust\")\n",
    "\n",
    "# assign results into dataframe (you can repeat this in later phases,\n",
    "# results accumulate in EddyObj$sTEMP if different scenarios are named with unique suffixes)\n",
    "resGapfill <- EddyObj$sExportResults()"
   ]
  },
  {
   "cell_type": "markdown",
   "metadata": {
    "id": "3NUoF6NV9YMV"
   },
   "source": [
    "# 🔹 **4.4 Partitioning CO₂ Fluxes into GPP and Reco**"
   ]
  },
  {
   "cell_type": "code",
   "execution_count": null,
   "metadata": {
    "colab": {
     "base_uri": "https://localhost:8080/"
    },
    "id": "UsRVlR419Xp3",
    "outputId": "7a139468-def7-44d8-d8be-aa42c1046178",
    "trusted": true,
    "vscode": {
     "languageId": "r"
    }
   },
   "outputs": [],
   "source": [
    "# CO2 flux partitioning with two driving temperatures of Reco and sMRFluxPartition method,\n",
    "# sGLFluxPartition and sTKFluxPartition methods are also available.\n",
    "\n",
    "# fill possible missing Rg, T and VPD before partitioning\n",
    "EddyObj$sMDSGapFill(\"Rg\", FillAll=FALSE)\n",
    "EddyObj$sMDSGapFill(\"Tair\", FillAll=FALSE)\n",
    "EddyObj$sMDSGapFill(\"Tsoil\", FillAll=FALSE)\n",
    "EddyObj$sMDSGapFill(\"Tmean\", FillAll=FALSE)\n",
    "EddyObj$sMDSGapFill(\"VPD\", FillAll=FALSE)\n",
    "\n",
    "# run partitioning using default Reco temperature (Tair),\n",
    "# indicate NEE suffix (if other than plain \"_f\") for REddyProc to find corresponding gapfilled NEE\n",
    "EddyObj$sMRFluxPartition(suffix=\"single_ust\")\n",
    "\n",
    "# partitioning using the mean of filled Tair and Tsoil as Reco driver, reduce required temperature range to 3 degrees\n",
    "EddyObj$sMRFluxPartition(suffix=\"single_ust_Tmean\", TempVar=\"Tmean_f\", parsE0Regression=list(TempRange=3))\n",
    "\n",
    "# assign results into temporary variable (results in EddyObj will be overwritten each time if not given unique suffix)\n",
    "resPart <- EddyObj$sExportResults()\n",
    "\n",
    "# try partitioning using Tsoil as Reco driver, it probably fails as the range of variability in Tsoil is too small\n",
    "# EddyObj$sMRFluxPartition(suffix=\"single_ust_Tsoil\", TempVar=\"Tsoil_f\", parsE0Regression=list(TempRange=2))"
   ]
  },
  {
   "cell_type": "markdown",
   "metadata": {
    "id": "-CFXZ5xw9cI9"
   },
   "source": [
    "# ============================================================\n",
    "# 💾 **5 Data Saving**\n",
    "# ============================================================"
   ]
  },
  {
   "cell_type": "code",
   "execution_count": null,
   "metadata": {
    "colab": {
     "base_uri": "https://localhost:8080/"
    },
    "id": "QO_f6m9n9bMQ",
    "outputId": "846a890c-64ee-4236-83ce-cf55a9869b92",
    "trusted": true,
    "vscode": {
     "languageId": "r"
    }
   },
   "outputs": [],
   "source": [
    "# add gapfilled NEE to the final data frame\n",
    "EddyDataFilled <- cbind(EddyData, resGapfill[,\n",
    "                                             c(\"NEE_single_ust_f\",\"NEE_single_ust_fqc\",\"NEE_seasonal_ust_f\",\"NEE_seasonal_ust_fqc\",\n",
    "                                               \"NEE_single_ust_Tmean_f\",\"NEE_single_ust_Tmean_fqc\")])\n",
    "\n",
    "\n",
    "\n",
    "# add component fluxes with air T as Reco driver\n",
    "tmpData <- resPart[,c(\"Reco_single_ust\",\"GPP_single_ust_f\",\"GPP_single_ust_fqc\")]\n",
    "names(tmpData) <- c(\"Reco_Tair\",\"GPP_Tair\",\"GPP_qc_Tair\")\n",
    "EddyDataFilled <- cbind(EddyDataFilled, tmpData)\n",
    "\n",
    "# add component fluxes with air & soil mean T as Reco driver\n",
    "tmpData <- resPart[,c(\"Reco_single_ust_Tmean\",\"GPP_single_ust_Tmean_f\",\"GPP_single_ust_Tmean_fqc\")]\n",
    "names(tmpData) <- c(\"Reco_Tmean\",\"GPP_Tmean\",\"GPP_qc_Tmean\")\n",
    "EddyDataFilled <- cbind(EddyDataFilled, tmpData)\n",
    "\n",
    "# save results into tab-separated text file using REddyProc's write function\n",
    "fWriteDataframeToFile(EddyDataFilled, resfile, Dir=resdir)\n",
    "#fWriteDataframeToFile(EddyDataFilled, resfile)"
   ]
  },
  {
   "cell_type": "markdown",
   "metadata": {
    "id": "x57HJCa8C6EM"
   },
   "source": [
    "# ============================================================\n",
    "# 📊 **5. Plotting Gap-Filled Fluxes and Diurnal Patterns**\n",
    "# ============================================================"
   ]
  },
  {
   "cell_type": "code",
   "execution_count": null,
   "metadata": {
    "colab": {
     "base_uri": "https://localhost:8080/"
    },
    "id": "_mzE_yxf9fj8",
    "outputId": "ceef6ad1-0461-4e79-9bc1-9542bf62be4b",
    "trusted": true,
    "vscode": {
     "languageId": "r"
    }
   },
   "outputs": [],
   "source": [
    "# plot stuff, note inconsistent case in dir/Dir argument\n",
    "\n",
    "EddyObj$sPlotHHFluxes(\"NEE_single_ust_f\", Dir=resdir)\n",
    "EddyObj$sPlotDiurnalCycle(\"GPP_single_ust_f\", Dir=resdir)\n",
    "EddyObj$sPlotDiurnalCycle(\"GPP_single_ust_Tmean_f\", Dir=resdir)\n",
    "\n",
    "#EddyObj$sPlotHHFluxes(\"NEE_single_ust_f\")\n",
    "#EddyObj$sPlotDiurnalCycle(\"GPP_single_ust_f\")\n",
    "#EddyObj$sPlotDiurnalCycle(\"GPP_single_ust_Tmean_f\")"
   ]
  }
 ],
 "metadata": {
  "colab": {
   "provenance": []
  },
  "kernelspec": {
   "display_name": "R",
   "language": "R",
   "name": "ir"
  },
  "language_info": {
   "codemirror_mode": "r",
   "file_extension": ".r",
   "mimetype": "text/x-r-source",
   "name": "R",
   "pygments_lexer": "r",
   "version": "4.3.2"
  }
 },
 "nbformat": 4,
 "nbformat_minor": 4
}
